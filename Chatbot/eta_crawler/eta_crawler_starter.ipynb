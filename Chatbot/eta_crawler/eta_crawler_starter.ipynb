{
 "cells": [
  {
   "cell_type": "code",
   "execution_count": 2,
   "metadata": {
    "tags": []
   },
   "outputs": [
    {
     "output_type": "stream",
     "name": "stdout",
     "text": "Collecting import_ipynb\n  Downloading import-ipynb-0.1.3.tar.gz (4.0 kB)\nBuilding wheels for collected packages: import-ipynb\n  Building wheel for import-ipynb (setup.py): started\n  Building wheel for import-ipynb (setup.py): finished with status 'done'\n  Created wheel for import-ipynb: filename=import_ipynb-0.1.3-py3-none-any.whl size=2979 sha256=7d914f34d994a364e1f335675bef104901133f8bfffd30ebf3ab1cbd2a0a9d85\n  Stored in directory: c:\\users\\yjw2\\appdata\\local\\pip\\cache\\wheels\\b1\\5e\\dc\\79780689896a056199b0b9f24471e3ee184fbd816df355d5f0\nSuccessfully built import-ipynb\nInstalling collected packages: import-ipynb\nSuccessfully installed import-ipynb-0.1.3\n"
    }
   ],
   "source": [
    "#!pip install import_ipynb"
   ]
  },
  {
   "cell_type": "code",
   "execution_count": 2,
   "metadata": {
    "tags": []
   },
   "outputs": [
    {
     "output_type": "stream",
     "name": "stdout",
     "text": "importing Jupyter notebook from everytime_crawling.ipynb\n"
    }
   ],
   "source": [
    "import import_ipynb\n",
    "import everytime_crawling as ec\n",
    "import pandas as pd"
   ]
  },
  {
   "cell_type": "code",
   "execution_count": null,
   "metadata": {},
   "outputs": [],
   "source": [
    "#게시판 업데이트\n",
    "\"\"\"board_dic = ec.get_board_names()\n",
    "\n",
    "ec.save_board_names(board_dic)\n",
    "\n",
    "board_dic = ec.load_board_names('게시판명.txt')\n",
    "\n",
    "board_dic\"\"\""
   ]
  },
  {
   "cell_type": "code",
   "execution_count": 3,
   "metadata": {},
   "outputs": [],
   "source": [
    "eta_df2 = pd.read_csv(\"../eta_crawler/에타조교_업데이트20200517.csv\",  encoding = 'utf8')\n",
    "ids2 = eta_df2['id'].to_list()"
   ]
  },
  {
   "cell_type": "code",
   "execution_count": 4,
   "metadata": {},
   "outputs": [],
   "source": [
    "eta_df = pd.read_csv(\"../자료/질문2.csv\",  encoding = 'ANSI')\n",
    "# eta_df.head(10)"
   ]
  },
  {
   "cell_type": "code",
   "execution_count": 5,
   "metadata": {},
   "outputs": [],
   "source": [
    "ids = eta_df['id'].to_list()\n",
    "ids += ids2\n",
    "# ids[:10]"
   ]
  },
  {
   "cell_type": "code",
   "execution_count": 6,
   "metadata": {
    "tags": []
   },
   "outputs": [
    {
     "output_type": "stream",
     "name": "stdout",
     "text": "서울캠 자유게시판\n글로벌캠 자유게시판\n비밀게시판\n졸업생게시판\n새내기게시판\n서울캠 장터게시판\n글로벌캠 장터게시판\n홍보게시판\n동아리·학회\n정보게시판\n취업·진로\n교환학생&칠쁠일\n외대교지\n외대학보\n영자신문사\n동아리연합회\n교육방송국\n🔞\n연애 상담 게시판\n코딩 질문 게시판\n다이어트\n나의 이상형은.\n헬스\n외대맛집 게시판\n끝말잇기 게시판\n음악추천게시판\n반수생 게시판\n욕나무숲\n반려동물 저장소\n성소수자 게시판\n메이플 게시판\n☀️☁️오늘의 날씨⛄☂️\n덕후게시판\n💧우울증 게시판💧\n에타조교\n공무원 질문 게시판\n공인회계사 KICPA 수험생 공부인증게시판\n아이돌 게시판\nNetflix and chilly pepper\n3 6 9 🤛\n연극 뮤지컬 덕후 모여라❤\n🎶가사 게시판🎶\n글로벌홀 게시판\n한 줄 소설\n⚾️야구 게시판⚾️\n전과/이중전공 게시판\n주식게시판\n💚To The World 여기는 NCT!💚\n♡mbti 이야기방♡\n외국어게시판\n외대 에세머\n글캠 빨버 시간표\nEXO-L\n아르바이트 / 파트타임 게시판\n민간인 출입 금지\n🎞필름 카메라🎞게시판\nMY DAY❤️\nBTS⭐아미\n모현 홀로서기\nCats of 교개원😽\n🔹교직이수🔹\n락 좋아하는 대학생 게시판\n뷰티게시판\n종합게임갤러리\n독백\n곰신들의 모임\n트위치 트수들\nTXT 게시판\n영화 추천 게시판\n고시\n성우 게시판\n대학원생들 모여라🌐🏫\nIZ*ONE & WIZ*ONE🎵\n융복합소프트웨어\n부부의세계게시판\nSEVENTEEN 💎CARAT\n서울맛집게시판🍕🍰🍲🥘\n노땅게시판\n외국인 계시판\n🐶동물의 숲 게시판🐱\n두산베어스 게시판🐻\n외대분실물 게시판\n국립외교원•5급 공부 인증 게시판\n짤 게시판\n"
    }
   ],
   "source": [
    "#크롤링할 게시판 이름 고르기\n",
    "board_dic = ec.load_board_names('게시판명.txt')\n",
    "\n",
    "for b in board_dic: \n",
    "    print(b)\n"
   ]
  },
  {
   "cell_type": "code",
   "execution_count": 7,
   "metadata": {},
   "outputs": [],
   "source": [
    "board_name = input('크롤링하고 싶은 게시판명을 골라주세요: ') \n",
    "\n",
    "ec.board_selection(board_dic, board_name)\n"
   ]
  },
  {
   "cell_type": "code",
   "execution_count": 9,
   "metadata": {},
   "outputs": [],
   "source": [
    "driver = ec.login() "
   ]
  },
  {
   "cell_type": "code",
   "execution_count": 10,
   "metadata": {},
   "outputs": [],
   "source": [
    "cns_data = ec.counsel_data(driver,  update_mode= True, cids = ids)\n",
    "# cns_data.current_ids = ids"
   ]
  },
  {
   "cell_type": "code",
   "execution_count": 11,
   "metadata": {
    "tags": []
   },
   "outputs": [
    {
     "output_type": "stream",
     "name": "stdout",
     "text": "10\nfinished\n"
    }
   ],
   "source": [
    "cns_data.start_update()\n",
    "driver.close()"
   ]
  },
  {
   "cell_type": "code",
   "execution_count": 12,
   "metadata": {
    "tags": []
   },
   "outputs": [
    {
     "output_type": "stream",
     "name": "stdout",
     "text": "새로 올라온 글 수:  1\n0\n10\n20\n30\n40\n50\n60\n70\n80\n90\n0\n"
    }
   ],
   "source": [
    "n, ids = ec.crawl_devision(cns_data)\n",
    "print(\"새로 올라온 글 수: \",len(ids)) #새로 올라온 글 수\n",
    "articles, comments, comments_writers, comments_tag, ids_result = ec.crawl_ntimes(n, ids)"
   ]
  },
  {
   "cell_type": "code",
   "execution_count": 13,
   "metadata": {},
   "outputs": [],
   "source": [
    "from pandas import Series, DataFrame\n",
    "import time\n",
    "raw_data = {'내용': articles, '댓글': comments, '댓글쓴이':comments_writers, '대댓글여부':comments_tag, 'id':ids_result,}\n",
    "\n",
    "eta_updated = DataFrame(raw_data) \n",
    "dt = time.strftime('%Y%m%d') \n",
    "file_name = \"에타조교_업데이트{}.csv\".format(dt)\n",
    "\n",
    "#csv로 저장\n",
    "# eta_updated.to_csv(file_name, mode='w',index =False, encoding='utf-8')"
   ]
  },
  {
   "cell_type": "code",
   "execution_count": 14,
   "metadata": {},
   "outputs": [],
   "source": [
    "#csv로 저장\n",
    "eta_updated.to_csv(file_name, mode='w',index =False,encoding='utf-8')"
   ]
  }
 ],
 "metadata": {
  "language_info": {
   "codemirror_mode": {
    "name": "ipython",
    "version": 3
   },
   "file_extension": ".py",
   "mimetype": "text/x-python",
   "name": "python",
   "nbconvert_exporter": "python",
   "pygments_lexer": "ipython3",
   "version": "3.7.6-final"
  },
  "orig_nbformat": 2,
  "kernelspec": {
   "name": "python3",
   "display_name": "Python 3"
  }
 },
 "nbformat": 4,
 "nbformat_minor": 2
}